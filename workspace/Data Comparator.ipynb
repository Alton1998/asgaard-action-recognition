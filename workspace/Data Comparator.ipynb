{
 "cells": [
  {
   "cell_type": "code",
   "execution_count": 1,
   "id": "f48b23c9-8c3c-4609-95fb-987399612f4f",
   "metadata": {},
   "outputs": [],
   "source": [
    "import pandas as pd"
   ]
  },
  {
   "cell_type": "code",
   "execution_count": 2,
   "id": "90562126-3563-473f-941e-dc41dd4146cc",
   "metadata": {},
   "outputs": [
    {
     "name": "stdout",
     "output_type": "stream",
     "text": [
      "/workspace\n"
     ]
    }
   ],
   "source": [
    "!pwd"
   ]
  },
  {
   "cell_type": "code",
   "execution_count": 3,
   "id": "2b0837e1-dcc9-406a-b15f-1994f1a46dd3",
   "metadata": {},
   "outputs": [],
   "source": [
    "df_alton = pd.read_csv(\"./Shot_Detection/First Blood (1982) -004.csv\")\n",
    "df_tico = pd. read_csv(\"./Shot_Detection/movies_to_segment/First Blood (1982) - Tico Romao.csv\")"
   ]
  },
  {
   "cell_type": "code",
   "execution_count": 4,
   "id": "bb7b662f-8d0a-4aff-abd6-9921fb2cf693",
   "metadata": {},
   "outputs": [
    {
     "data": {
      "text/html": [
       "<div>\n",
       "<style scoped>\n",
       "    .dataframe tbody tr th:only-of-type {\n",
       "        vertical-align: middle;\n",
       "    }\n",
       "\n",
       "    .dataframe tbody tr th {\n",
       "        vertical-align: top;\n",
       "    }\n",
       "\n",
       "    .dataframe thead th {\n",
       "        text-align: right;\n",
       "    }\n",
       "</style>\n",
       "<table border=\"1\" class=\"dataframe\">\n",
       "  <thead>\n",
       "    <tr style=\"text-align: right;\">\n",
       "      <th></th>\n",
       "      <th>Start Time</th>\n",
       "      <th>End Time</th>\n",
       "    </tr>\n",
       "  </thead>\n",
       "  <tbody>\n",
       "    <tr>\n",
       "      <th>0</th>\n",
       "      <td>00:00:00.000</td>\n",
       "      <td>00:00:19.436</td>\n",
       "    </tr>\n",
       "    <tr>\n",
       "      <th>1</th>\n",
       "      <td>00:00:19.436</td>\n",
       "      <td>00:01:21.331</td>\n",
       "    </tr>\n",
       "    <tr>\n",
       "      <th>2</th>\n",
       "      <td>00:01:21.331</td>\n",
       "      <td>00:01:25.711</td>\n",
       "    </tr>\n",
       "    <tr>\n",
       "      <th>3</th>\n",
       "      <td>00:01:25.711</td>\n",
       "      <td>00:02:07.711</td>\n",
       "    </tr>\n",
       "    <tr>\n",
       "      <th>4</th>\n",
       "      <td>00:02:07.711</td>\n",
       "      <td>00:02:21.808</td>\n",
       "    </tr>\n",
       "    <tr>\n",
       "      <th>...</th>\n",
       "      <td>...</td>\n",
       "      <td>...</td>\n",
       "    </tr>\n",
       "    <tr>\n",
       "      <th>824</th>\n",
       "      <td>01:28:30.514</td>\n",
       "      <td>01:28:35.810</td>\n",
       "    </tr>\n",
       "    <tr>\n",
       "      <th>825</th>\n",
       "      <td>01:28:35.810</td>\n",
       "      <td>01:28:41.775</td>\n",
       "    </tr>\n",
       "    <tr>\n",
       "      <th>826</th>\n",
       "      <td>01:28:41.775</td>\n",
       "      <td>01:29:11.846</td>\n",
       "    </tr>\n",
       "    <tr>\n",
       "      <th>827</th>\n",
       "      <td>01:29:11.846</td>\n",
       "      <td>01:29:48.883</td>\n",
       "    </tr>\n",
       "    <tr>\n",
       "      <th>828</th>\n",
       "      <td>01:29:48.883</td>\n",
       "      <td>01:33:11.544</td>\n",
       "    </tr>\n",
       "  </tbody>\n",
       "</table>\n",
       "<p>829 rows × 2 columns</p>\n",
       "</div>"
      ],
      "text/plain": [
       "       Start Time      End Time\n",
       "0    00:00:00.000  00:00:19.436\n",
       "1    00:00:19.436  00:01:21.331\n",
       "2    00:01:21.331  00:01:25.711\n",
       "3    00:01:25.711  00:02:07.711\n",
       "4    00:02:07.711  00:02:21.808\n",
       "..            ...           ...\n",
       "824  01:28:30.514  01:28:35.810\n",
       "825  01:28:35.810  01:28:41.775\n",
       "826  01:28:41.775  01:29:11.846\n",
       "827  01:29:11.846  01:29:48.883\n",
       "828  01:29:48.883  01:33:11.544\n",
       "\n",
       "[829 rows x 2 columns]"
      ]
     },
     "execution_count": 4,
     "metadata": {},
     "output_type": "execute_result"
    }
   ],
   "source": [
    "df_alton"
   ]
  },
  {
   "cell_type": "code",
   "execution_count": 5,
   "id": "217ac857-a6f9-4586-a09d-63ea7c6d3bb7",
   "metadata": {},
   "outputs": [],
   "source": [
    "df_tico = df_tico[[\"Start\",\"End\"]]"
   ]
  },
  {
   "cell_type": "code",
   "execution_count": 6,
   "id": "f493353e-1282-4974-b744-30cbbda12d35",
   "metadata": {},
   "outputs": [
    {
     "data": {
      "text/html": [
       "<div>\n",
       "<style scoped>\n",
       "    .dataframe tbody tr th:only-of-type {\n",
       "        vertical-align: middle;\n",
       "    }\n",
       "\n",
       "    .dataframe tbody tr th {\n",
       "        vertical-align: top;\n",
       "    }\n",
       "\n",
       "    .dataframe thead th {\n",
       "        text-align: right;\n",
       "    }\n",
       "</style>\n",
       "<table border=\"1\" class=\"dataframe\">\n",
       "  <thead>\n",
       "    <tr style=\"text-align: right;\">\n",
       "      <th></th>\n",
       "      <th>Start</th>\n",
       "      <th>End</th>\n",
       "    </tr>\n",
       "  </thead>\n",
       "  <tbody>\n",
       "    <tr>\n",
       "      <th>0</th>\n",
       "      <td>00:01:26</td>\n",
       "      <td>00:02:08</td>\n",
       "    </tr>\n",
       "    <tr>\n",
       "      <th>1</th>\n",
       "      <td>00:04:13</td>\n",
       "      <td>00:04:20</td>\n",
       "    </tr>\n",
       "    <tr>\n",
       "      <th>2</th>\n",
       "      <td>00:04:19</td>\n",
       "      <td>00:04:45</td>\n",
       "    </tr>\n",
       "    <tr>\n",
       "      <th>3</th>\n",
       "      <td>00:05:01</td>\n",
       "      <td>00:09:55</td>\n",
       "    </tr>\n",
       "    <tr>\n",
       "      <th>4</th>\n",
       "      <td>00:11:29</td>\n",
       "      <td>00:12:48</td>\n",
       "    </tr>\n",
       "    <tr>\n",
       "      <th>5</th>\n",
       "      <td>00:12:48</td>\n",
       "      <td>00:13:52</td>\n",
       "    </tr>\n",
       "    <tr>\n",
       "      <th>6</th>\n",
       "      <td>00:13:52</td>\n",
       "      <td>00:15:03</td>\n",
       "    </tr>\n",
       "    <tr>\n",
       "      <th>7</th>\n",
       "      <td>00:15:10</td>\n",
       "      <td>00:22:08</td>\n",
       "    </tr>\n",
       "    <tr>\n",
       "      <th>8</th>\n",
       "      <td>00:22:08</td>\n",
       "      <td>00:22:17</td>\n",
       "    </tr>\n",
       "    <tr>\n",
       "      <th>9</th>\n",
       "      <td>00:23:21</td>\n",
       "      <td>00:30:21</td>\n",
       "    </tr>\n",
       "    <tr>\n",
       "      <th>10</th>\n",
       "      <td>00:31:47</td>\n",
       "      <td>00:32:13</td>\n",
       "    </tr>\n",
       "    <tr>\n",
       "      <th>11</th>\n",
       "      <td>00:33:31</td>\n",
       "      <td>00:34:04</td>\n",
       "    </tr>\n",
       "    <tr>\n",
       "      <th>12</th>\n",
       "      <td>00:34:15</td>\n",
       "      <td>00:42:03</td>\n",
       "    </tr>\n",
       "    <tr>\n",
       "      <th>13</th>\n",
       "      <td>00:42:13</td>\n",
       "      <td>00:43:03</td>\n",
       "    </tr>\n",
       "    <tr>\n",
       "      <th>14</th>\n",
       "      <td>00:46:41</td>\n",
       "      <td>00:47:05</td>\n",
       "    </tr>\n",
       "    <tr>\n",
       "      <th>15</th>\n",
       "      <td>00:53:56</td>\n",
       "      <td>00:58:13</td>\n",
       "    </tr>\n",
       "    <tr>\n",
       "      <th>16</th>\n",
       "      <td>00:58:23</td>\n",
       "      <td>00:59:17</td>\n",
       "    </tr>\n",
       "    <tr>\n",
       "      <th>17</th>\n",
       "      <td>01:03:11</td>\n",
       "      <td>01:03:17</td>\n",
       "    </tr>\n",
       "    <tr>\n",
       "      <th>18</th>\n",
       "      <td>01:04:54</td>\n",
       "      <td>01:05:16</td>\n",
       "    </tr>\n",
       "    <tr>\n",
       "      <th>19</th>\n",
       "      <td>01:08:28</td>\n",
       "      <td>01:08:58</td>\n",
       "    </tr>\n",
       "    <tr>\n",
       "      <th>20</th>\n",
       "      <td>01:09:25</td>\n",
       "      <td>01:30:06</td>\n",
       "    </tr>\n",
       "  </tbody>\n",
       "</table>\n",
       "</div>"
      ],
      "text/plain": [
       "       Start       End\n",
       "0   00:01:26  00:02:08\n",
       "1   00:04:13  00:04:20\n",
       "2   00:04:19  00:04:45\n",
       "3   00:05:01  00:09:55\n",
       "4   00:11:29  00:12:48\n",
       "5   00:12:48  00:13:52\n",
       "6   00:13:52  00:15:03\n",
       "7   00:15:10  00:22:08\n",
       "8   00:22:08  00:22:17\n",
       "9   00:23:21  00:30:21\n",
       "10  00:31:47  00:32:13\n",
       "11  00:33:31  00:34:04\n",
       "12  00:34:15  00:42:03\n",
       "13  00:42:13  00:43:03\n",
       "14  00:46:41  00:47:05\n",
       "15  00:53:56  00:58:13\n",
       "16  00:58:23  00:59:17\n",
       "17  01:03:11  01:03:17\n",
       "18  01:04:54  01:05:16\n",
       "19  01:08:28  01:08:58\n",
       "20  01:09:25  01:30:06"
      ]
     },
     "execution_count": 6,
     "metadata": {},
     "output_type": "execute_result"
    }
   ],
   "source": [
    "df_tico"
   ]
  },
  {
   "cell_type": "code",
   "execution_count": 7,
   "id": "0ce78347-bb4f-4f93-bb02-6bf2f592c5c5",
   "metadata": {},
   "outputs": [
    {
     "name": "stdout",
     "output_type": "stream",
     "text": [
      "<class 'pandas.core.frame.DataFrame'>\n",
      "RangeIndex: 21 entries, 0 to 20\n",
      "Data columns (total 2 columns):\n",
      " #   Column  Non-Null Count  Dtype \n",
      "---  ------  --------------  ----- \n",
      " 0   Start   21 non-null     object\n",
      " 1   End     21 non-null     object\n",
      "dtypes: object(2)\n",
      "memory usage: 468.0+ bytes\n"
     ]
    }
   ],
   "source": [
    "df_tico.info()"
   ]
  },
  {
   "cell_type": "code",
   "execution_count": 8,
   "id": "7b2d4738-2479-4b27-a3b8-130ae90badb4",
   "metadata": {},
   "outputs": [
    {
     "name": "stdout",
     "output_type": "stream",
     "text": [
      "<class 'pandas.core.frame.DataFrame'>\n",
      "RangeIndex: 829 entries, 0 to 828\n",
      "Data columns (total 2 columns):\n",
      " #   Column      Non-Null Count  Dtype \n",
      "---  ------      --------------  ----- \n",
      " 0   Start Time  829 non-null    object\n",
      " 1   End Time    829 non-null    object\n",
      "dtypes: object(2)\n",
      "memory usage: 13.1+ KB\n"
     ]
    }
   ],
   "source": [
    "df_alton.info()"
   ]
  },
  {
   "cell_type": "code",
   "execution_count": 9,
   "id": "44898302-164f-46db-acfc-9e58d85bed42",
   "metadata": {},
   "outputs": [],
   "source": [
    "df_alton[\"Start Time\"] = pd.to_timedelta(df_alton[\"Start Time\"]).dt.ceil('s')"
   ]
  },
  {
   "cell_type": "code",
   "execution_count": 10,
   "id": "75cf12f9-e716-4b62-aee9-569dd78029b4",
   "metadata": {},
   "outputs": [],
   "source": [
    "df_alton[\"End Time\"] = pd.to_timedelta(df_alton[\"End Time\"]).dt.ceil('s')"
   ]
  },
  {
   "cell_type": "code",
   "execution_count": 11,
   "id": "c46accaa-389d-451f-8fb6-08154b2ab45b",
   "metadata": {},
   "outputs": [
    {
     "name": "stdout",
     "output_type": "stream",
     "text": [
      "<class 'pandas.core.frame.DataFrame'>\n",
      "RangeIndex: 829 entries, 0 to 828\n",
      "Data columns (total 2 columns):\n",
      " #   Column      Non-Null Count  Dtype          \n",
      "---  ------      --------------  -----          \n",
      " 0   Start Time  829 non-null    timedelta64[ns]\n",
      " 1   End Time    829 non-null    timedelta64[ns]\n",
      "dtypes: timedelta64[ns](2)\n",
      "memory usage: 13.1 KB\n"
     ]
    }
   ],
   "source": [
    "df_alton.info()"
   ]
  },
  {
   "cell_type": "code",
   "execution_count": 12,
   "id": "10c7b877-5f04-4a30-9da1-60e7194ec217",
   "metadata": {},
   "outputs": [],
   "source": [
    "df_tico[\"Start\"] = pd.to_timedelta(df_tico[\"Start\"]).dt.floor('s')"
   ]
  },
  {
   "cell_type": "code",
   "execution_count": 13,
   "id": "2f1fe715-0253-470f-8539-d5a334f7af84",
   "metadata": {},
   "outputs": [],
   "source": [
    "df_tico[\"End\"] = pd.to_timedelta(df_tico[\"End\"]).dt.floor('s')"
   ]
  },
  {
   "cell_type": "code",
   "execution_count": 14,
   "id": "e82c8831-1938-4717-9ac2-0b4a6e69b57d",
   "metadata": {},
   "outputs": [],
   "source": [
    "merged_df = pd.merge(df_alton, df_tico, left_on='Start Time', right_on='Start')"
   ]
  },
  {
   "cell_type": "code",
   "execution_count": 15,
   "id": "cc376cda-59c2-4013-b707-ebd659a28e62",
   "metadata": {},
   "outputs": [
    {
     "data": {
      "text/html": [
       "<div>\n",
       "<style scoped>\n",
       "    .dataframe tbody tr th:only-of-type {\n",
       "        vertical-align: middle;\n",
       "    }\n",
       "\n",
       "    .dataframe tbody tr th {\n",
       "        vertical-align: top;\n",
       "    }\n",
       "\n",
       "    .dataframe thead th {\n",
       "        text-align: right;\n",
       "    }\n",
       "</style>\n",
       "<table border=\"1\" class=\"dataframe\">\n",
       "  <thead>\n",
       "    <tr style=\"text-align: right;\">\n",
       "      <th></th>\n",
       "      <th>Start Time</th>\n",
       "      <th>End Time</th>\n",
       "      <th>Start</th>\n",
       "      <th>End</th>\n",
       "    </tr>\n",
       "  </thead>\n",
       "  <tbody>\n",
       "    <tr>\n",
       "      <th>0</th>\n",
       "      <td>0 days 00:01:26</td>\n",
       "      <td>0 days 00:02:08</td>\n",
       "      <td>0 days 00:01:26</td>\n",
       "      <td>0 days 00:02:08</td>\n",
       "    </tr>\n",
       "    <tr>\n",
       "      <th>1</th>\n",
       "      <td>0 days 00:04:13</td>\n",
       "      <td>0 days 00:04:46</td>\n",
       "      <td>0 days 00:04:13</td>\n",
       "      <td>0 days 00:04:20</td>\n",
       "    </tr>\n",
       "    <tr>\n",
       "      <th>2</th>\n",
       "      <td>0 days 00:05:01</td>\n",
       "      <td>0 days 00:05:29</td>\n",
       "      <td>0 days 00:05:01</td>\n",
       "      <td>0 days 00:09:55</td>\n",
       "    </tr>\n",
       "    <tr>\n",
       "      <th>3</th>\n",
       "      <td>0 days 00:11:29</td>\n",
       "      <td>0 days 00:11:30</td>\n",
       "      <td>0 days 00:11:29</td>\n",
       "      <td>0 days 00:12:48</td>\n",
       "    </tr>\n",
       "    <tr>\n",
       "      <th>4</th>\n",
       "      <td>0 days 00:12:48</td>\n",
       "      <td>0 days 00:13:53</td>\n",
       "      <td>0 days 00:12:48</td>\n",
       "      <td>0 days 00:13:52</td>\n",
       "    </tr>\n",
       "    <tr>\n",
       "      <th>5</th>\n",
       "      <td>0 days 00:15:10</td>\n",
       "      <td>0 days 00:15:19</td>\n",
       "      <td>0 days 00:15:10</td>\n",
       "      <td>0 days 00:22:08</td>\n",
       "    </tr>\n",
       "    <tr>\n",
       "      <th>6</th>\n",
       "      <td>0 days 00:22:08</td>\n",
       "      <td>0 days 00:22:17</td>\n",
       "      <td>0 days 00:22:08</td>\n",
       "      <td>0 days 00:22:17</td>\n",
       "    </tr>\n",
       "    <tr>\n",
       "      <th>7</th>\n",
       "      <td>0 days 00:23:21</td>\n",
       "      <td>0 days 00:23:25</td>\n",
       "      <td>0 days 00:23:21</td>\n",
       "      <td>0 days 00:30:21</td>\n",
       "    </tr>\n",
       "    <tr>\n",
       "      <th>8</th>\n",
       "      <td>0 days 00:31:47</td>\n",
       "      <td>0 days 00:31:52</td>\n",
       "      <td>0 days 00:31:47</td>\n",
       "      <td>0 days 00:32:13</td>\n",
       "    </tr>\n",
       "    <tr>\n",
       "      <th>9</th>\n",
       "      <td>0 days 00:33:31</td>\n",
       "      <td>0 days 00:33:35</td>\n",
       "      <td>0 days 00:33:31</td>\n",
       "      <td>0 days 00:34:04</td>\n",
       "    </tr>\n",
       "    <tr>\n",
       "      <th>10</th>\n",
       "      <td>0 days 00:46:41</td>\n",
       "      <td>0 days 00:46:47</td>\n",
       "      <td>0 days 00:46:41</td>\n",
       "      <td>0 days 00:47:05</td>\n",
       "    </tr>\n",
       "    <tr>\n",
       "      <th>11</th>\n",
       "      <td>0 days 00:58:23</td>\n",
       "      <td>0 days 00:58:35</td>\n",
       "      <td>0 days 00:58:23</td>\n",
       "      <td>0 days 00:59:17</td>\n",
       "    </tr>\n",
       "    <tr>\n",
       "      <th>12</th>\n",
       "      <td>0 days 01:04:54</td>\n",
       "      <td>0 days 01:05:03</td>\n",
       "      <td>0 days 01:04:54</td>\n",
       "      <td>0 days 01:05:16</td>\n",
       "    </tr>\n",
       "    <tr>\n",
       "      <th>13</th>\n",
       "      <td>0 days 01:08:28</td>\n",
       "      <td>0 days 01:08:49</td>\n",
       "      <td>0 days 01:08:28</td>\n",
       "      <td>0 days 01:08:58</td>\n",
       "    </tr>\n",
       "  </tbody>\n",
       "</table>\n",
       "</div>"
      ],
      "text/plain": [
       "        Start Time        End Time           Start             End\n",
       "0  0 days 00:01:26 0 days 00:02:08 0 days 00:01:26 0 days 00:02:08\n",
       "1  0 days 00:04:13 0 days 00:04:46 0 days 00:04:13 0 days 00:04:20\n",
       "2  0 days 00:05:01 0 days 00:05:29 0 days 00:05:01 0 days 00:09:55\n",
       "3  0 days 00:11:29 0 days 00:11:30 0 days 00:11:29 0 days 00:12:48\n",
       "4  0 days 00:12:48 0 days 00:13:53 0 days 00:12:48 0 days 00:13:52\n",
       "5  0 days 00:15:10 0 days 00:15:19 0 days 00:15:10 0 days 00:22:08\n",
       "6  0 days 00:22:08 0 days 00:22:17 0 days 00:22:08 0 days 00:22:17\n",
       "7  0 days 00:23:21 0 days 00:23:25 0 days 00:23:21 0 days 00:30:21\n",
       "8  0 days 00:31:47 0 days 00:31:52 0 days 00:31:47 0 days 00:32:13\n",
       "9  0 days 00:33:31 0 days 00:33:35 0 days 00:33:31 0 days 00:34:04\n",
       "10 0 days 00:46:41 0 days 00:46:47 0 days 00:46:41 0 days 00:47:05\n",
       "11 0 days 00:58:23 0 days 00:58:35 0 days 00:58:23 0 days 00:59:17\n",
       "12 0 days 01:04:54 0 days 01:05:03 0 days 01:04:54 0 days 01:05:16\n",
       "13 0 days 01:08:28 0 days 01:08:49 0 days 01:08:28 0 days 01:08:58"
      ]
     },
     "execution_count": 15,
     "metadata": {},
     "output_type": "execute_result"
    }
   ],
   "source": [
    "merged_df"
   ]
  },
  {
   "cell_type": "code",
   "execution_count": 18,
   "id": "3c8e875a-b34f-43dc-b613-9e875e6d6c9d",
   "metadata": {},
   "outputs": [],
   "source": [
    "merged_df_1 = pd.merge(df_alton,df_tico, left_on=\"End Time\", right_on=\"End\")"
   ]
  },
  {
   "cell_type": "code",
   "execution_count": 19,
   "id": "f3e62b26-e650-4384-8833-ba9a242aef20",
   "metadata": {},
   "outputs": [
    {
     "data": {
      "text/html": [
       "<div>\n",
       "<style scoped>\n",
       "    .dataframe tbody tr th:only-of-type {\n",
       "        vertical-align: middle;\n",
       "    }\n",
       "\n",
       "    .dataframe tbody tr th {\n",
       "        vertical-align: top;\n",
       "    }\n",
       "\n",
       "    .dataframe thead th {\n",
       "        text-align: right;\n",
       "    }\n",
       "</style>\n",
       "<table border=\"1\" class=\"dataframe\">\n",
       "  <thead>\n",
       "    <tr style=\"text-align: right;\">\n",
       "      <th></th>\n",
       "      <th>Start Time</th>\n",
       "      <th>End Time</th>\n",
       "      <th>Start</th>\n",
       "      <th>End</th>\n",
       "    </tr>\n",
       "  </thead>\n",
       "  <tbody>\n",
       "    <tr>\n",
       "      <th>0</th>\n",
       "      <td>0 days 00:01:26</td>\n",
       "      <td>0 days 00:02:08</td>\n",
       "      <td>0 days 00:01:26</td>\n",
       "      <td>0 days 00:02:08</td>\n",
       "    </tr>\n",
       "    <tr>\n",
       "      <th>1</th>\n",
       "      <td>0 days 00:12:39</td>\n",
       "      <td>0 days 00:12:48</td>\n",
       "      <td>0 days 00:11:29</td>\n",
       "      <td>0 days 00:12:48</td>\n",
       "    </tr>\n",
       "    <tr>\n",
       "      <th>2</th>\n",
       "      <td>0 days 00:14:55</td>\n",
       "      <td>0 days 00:15:03</td>\n",
       "      <td>0 days 00:13:52</td>\n",
       "      <td>0 days 00:15:03</td>\n",
       "    </tr>\n",
       "    <tr>\n",
       "      <th>3</th>\n",
       "      <td>0 days 00:21:25</td>\n",
       "      <td>0 days 00:22:08</td>\n",
       "      <td>0 days 00:15:10</td>\n",
       "      <td>0 days 00:22:08</td>\n",
       "    </tr>\n",
       "    <tr>\n",
       "      <th>4</th>\n",
       "      <td>0 days 00:22:08</td>\n",
       "      <td>0 days 00:22:17</td>\n",
       "      <td>0 days 00:22:08</td>\n",
       "      <td>0 days 00:22:17</td>\n",
       "    </tr>\n",
       "    <tr>\n",
       "      <th>5</th>\n",
       "      <td>0 days 00:33:44</td>\n",
       "      <td>0 days 00:34:04</td>\n",
       "      <td>0 days 00:33:31</td>\n",
       "      <td>0 days 00:34:04</td>\n",
       "    </tr>\n",
       "    <tr>\n",
       "      <th>6</th>\n",
       "      <td>0 days 00:46:47</td>\n",
       "      <td>0 days 00:47:05</td>\n",
       "      <td>0 days 00:46:41</td>\n",
       "      <td>0 days 00:47:05</td>\n",
       "    </tr>\n",
       "    <tr>\n",
       "      <th>7</th>\n",
       "      <td>0 days 01:08:49</td>\n",
       "      <td>0 days 01:08:58</td>\n",
       "      <td>0 days 01:08:28</td>\n",
       "      <td>0 days 01:08:58</td>\n",
       "    </tr>\n",
       "  </tbody>\n",
       "</table>\n",
       "</div>"
      ],
      "text/plain": [
       "       Start Time        End Time           Start             End\n",
       "0 0 days 00:01:26 0 days 00:02:08 0 days 00:01:26 0 days 00:02:08\n",
       "1 0 days 00:12:39 0 days 00:12:48 0 days 00:11:29 0 days 00:12:48\n",
       "2 0 days 00:14:55 0 days 00:15:03 0 days 00:13:52 0 days 00:15:03\n",
       "3 0 days 00:21:25 0 days 00:22:08 0 days 00:15:10 0 days 00:22:08\n",
       "4 0 days 00:22:08 0 days 00:22:17 0 days 00:22:08 0 days 00:22:17\n",
       "5 0 days 00:33:44 0 days 00:34:04 0 days 00:33:31 0 days 00:34:04\n",
       "6 0 days 00:46:47 0 days 00:47:05 0 days 00:46:41 0 days 00:47:05\n",
       "7 0 days 01:08:49 0 days 01:08:58 0 days 01:08:28 0 days 01:08:58"
      ]
     },
     "execution_count": 19,
     "metadata": {},
     "output_type": "execute_result"
    }
   ],
   "source": [
    "merged_df_1"
   ]
  },
  {
   "cell_type": "code",
   "execution_count": 20,
   "id": "d2e86e3b-40df-4cfb-a012-87577386c802",
   "metadata": {},
   "outputs": [],
   "source": [
    "merged_df_3 = pd.merge(df_alton, df_tico, \n",
    "                     left_on=['Start Time', 'End Time'], \n",
    "                     right_on=['Start', 'End'], \n",
    "                     how='inner')"
   ]
  },
  {
   "cell_type": "code",
   "execution_count": 21,
   "id": "dc1b4051-ce6f-4199-ac80-ca1aef39d3af",
   "metadata": {},
   "outputs": [
    {
     "data": {
      "text/html": [
       "<div>\n",
       "<style scoped>\n",
       "    .dataframe tbody tr th:only-of-type {\n",
       "        vertical-align: middle;\n",
       "    }\n",
       "\n",
       "    .dataframe tbody tr th {\n",
       "        vertical-align: top;\n",
       "    }\n",
       "\n",
       "    .dataframe thead th {\n",
       "        text-align: right;\n",
       "    }\n",
       "</style>\n",
       "<table border=\"1\" class=\"dataframe\">\n",
       "  <thead>\n",
       "    <tr style=\"text-align: right;\">\n",
       "      <th></th>\n",
       "      <th>Start Time</th>\n",
       "      <th>End Time</th>\n",
       "      <th>Start</th>\n",
       "      <th>End</th>\n",
       "    </tr>\n",
       "  </thead>\n",
       "  <tbody>\n",
       "    <tr>\n",
       "      <th>0</th>\n",
       "      <td>0 days 00:01:26</td>\n",
       "      <td>0 days 00:02:08</td>\n",
       "      <td>0 days 00:01:26</td>\n",
       "      <td>0 days 00:02:08</td>\n",
       "    </tr>\n",
       "    <tr>\n",
       "      <th>1</th>\n",
       "      <td>0 days 00:22:08</td>\n",
       "      <td>0 days 00:22:17</td>\n",
       "      <td>0 days 00:22:08</td>\n",
       "      <td>0 days 00:22:17</td>\n",
       "    </tr>\n",
       "  </tbody>\n",
       "</table>\n",
       "</div>"
      ],
      "text/plain": [
       "       Start Time        End Time           Start             End\n",
       "0 0 days 00:01:26 0 days 00:02:08 0 days 00:01:26 0 days 00:02:08\n",
       "1 0 days 00:22:08 0 days 00:22:17 0 days 00:22:08 0 days 00:22:17"
      ]
     },
     "execution_count": 21,
     "metadata": {},
     "output_type": "execute_result"
    }
   ],
   "source": [
    "merged_df_3"
   ]
  },
  {
   "cell_type": "code",
   "execution_count": 25,
   "id": "c8e9c017-fcd9-4a2a-b8e9-0cb592c5771e",
   "metadata": {},
   "outputs": [],
   "source": [
    "merged_df.to_csv(\"./Start_Time Comparisons.csv\")"
   ]
  },
  {
   "cell_type": "code",
   "execution_count": 26,
   "id": "6e75bf08-0ff1-4fdc-97b5-730b16e8dd51",
   "metadata": {},
   "outputs": [],
   "source": [
    "merged_df_1.to_csv(\"./End_Time Comparisons.csv\")"
   ]
  },
  {
   "cell_type": "code",
   "execution_count": 27,
   "id": "1169e5e6-8162-45f9-8277-c50ca92d5049",
   "metadata": {},
   "outputs": [],
   "source": [
    "merged_df_3.to_csv(\"Start and End Time Comparisons.csv\")"
   ]
  },
  {
   "cell_type": "code",
   "execution_count": null,
   "id": "f7d4b7ba-0cab-4b08-88e3-2aba176ddf3f",
   "metadata": {},
   "outputs": [],
   "source": []
  },
  {
   "cell_type": "code",
   "execution_count": null,
   "id": "738fef52-9dbe-4485-950d-08132bc48fba",
   "metadata": {},
   "outputs": [],
   "source": []
  },
  {
   "cell_type": "code",
   "execution_count": null,
   "id": "d1684fe3-7eb7-4ac0-b53e-e711001f7260",
   "metadata": {},
   "outputs": [],
   "source": []
  },
  {
   "cell_type": "code",
   "execution_count": null,
   "id": "da73e867-744e-4cfe-ab8c-995555a77301",
   "metadata": {},
   "outputs": [],
   "source": []
  },
  {
   "cell_type": "code",
   "execution_count": null,
   "id": "ff83b217-b528-43c2-b184-637b1e29253c",
   "metadata": {},
   "outputs": [],
   "source": []
  },
  {
   "cell_type": "code",
   "execution_count": null,
   "id": "806b8a03-c727-4f9e-ab1a-ea226b5dab0c",
   "metadata": {},
   "outputs": [],
   "source": []
  },
  {
   "cell_type": "code",
   "execution_count": null,
   "id": "eebda993-9130-4490-8f43-726ac4801cd3",
   "metadata": {},
   "outputs": [],
   "source": []
  },
  {
   "cell_type": "code",
   "execution_count": null,
   "id": "3f1d574c-0589-4dc6-831f-07a4097d48f3",
   "metadata": {},
   "outputs": [],
   "source": []
  },
  {
   "cell_type": "code",
   "execution_count": null,
   "id": "a7c5f838-bcf2-4cc7-a4f5-f51432038fc3",
   "metadata": {},
   "outputs": [],
   "source": []
  },
  {
   "cell_type": "code",
   "execution_count": null,
   "id": "817e6bb1-c59d-4ad7-b33a-0a2fe90e6fe5",
   "metadata": {},
   "outputs": [],
   "source": []
  },
  {
   "cell_type": "code",
   "execution_count": null,
   "id": "8fb6f912-af39-4b6d-a1b3-72e9b7eae997",
   "metadata": {},
   "outputs": [],
   "source": []
  },
  {
   "cell_type": "code",
   "execution_count": null,
   "id": "3c9a6e97-a67f-4af5-b9ef-1cf7b3d0afac",
   "metadata": {},
   "outputs": [],
   "source": []
  }
 ],
 "metadata": {
  "kernelspec": {
   "display_name": "Python 3 (ipykernel)",
   "language": "python",
   "name": "python3"
  },
  "language_info": {
   "codemirror_mode": {
    "name": "ipython",
    "version": 3
   },
   "file_extension": ".py",
   "mimetype": "text/x-python",
   "name": "python",
   "nbconvert_exporter": "python",
   "pygments_lexer": "ipython3",
   "version": "3.11.10"
  }
 },
 "nbformat": 4,
 "nbformat_minor": 5
}
