{
 "cells": [
  {
   "cell_type": "code",
   "execution_count": null,
   "id": "e6a58480-146a-4ca6-9eb2-8342fa75a807",
   "metadata": {},
   "outputs": [
    {
     "name": "stdout",
     "output_type": "stream",
     "text": [
      "Collecting torchinfo\n",
      "  Downloading torchinfo-1.8.0-py3-none-any.whl.metadata (21 kB)\n",
      "Downloading torchinfo-1.8.0-py3-none-any.whl (23 kB)\n",
      "Installing collected packages: torchinfo\n",
      "Successfully installed torchinfo-1.8.0\n",
      "\u001b[33mWARNING: Running pip as the 'root' user can result in broken permissions and conflicting behaviour with the system package manager, possibly rendering your system unusable.It is recommended to use a virtual environment instead: https://pip.pypa.io/warnings/venv. Use the --root-user-action option if you know what you are doing and want to suppress this warning.\u001b[0m\u001b[33m\n",
      "\u001b[0m\n",
      "\u001b[1m[\u001b[0m\u001b[34;49mnotice\u001b[0m\u001b[1;39;49m]\u001b[0m\u001b[39;49m A new release of pip is available: \u001b[0m\u001b[31;49m24.3.1\u001b[0m\u001b[39;49m -> \u001b[0m\u001b[32;49m25.0\u001b[0m\n",
      "\u001b[1m[\u001b[0m\u001b[34;49mnotice\u001b[0m\u001b[1;39;49m]\u001b[0m\u001b[39;49m To update, run: \u001b[0m\u001b[32;49mpip install --upgrade pip\u001b[0m\n",
      "/usr/bin/sh: 1: add-apt-repository: not found\n"
     ]
    }
   ],
   "source": [
    "!pip install torchinfo\n",
    "!add-apt-repository ppa:jonathonf/ffmpeg-4 -y\n",
    "!apt-get update\n",
    "!apt-get -y install ffmpeg\n",
    "!pip install ffmpeg-python pillow\n",
    "!pip install einops\n",
    "!pip install opencv-python\n",
    "!apt-get -y install libgl1-mesa-glx\n",
    "!apt-get -y install libglib2.0-0"
   ]
  },
  {
   "cell_type": "code",
   "execution_count": null,
   "id": "2d593830-5869-44c3-bc97-345afbd999df",
   "metadata": {},
   "outputs": [],
   "source": [
    "from shot_detecion_selector import ShotDetection\n",
    "from io_setup import setup_video_path"
   ]
  },
  {
   "cell_type": "code",
   "execution_count": null,
   "id": "ec395f44-ddcd-457f-9b28-eb43a4bce8bc",
   "metadata": {},
   "outputs": [],
   "source": [
    "model = ShotDetection('autoshot')"
   ]
  },
  {
   "cell_type": "code",
   "execution_count": null,
   "id": "e329d52a-3b8c-4be0-a189-4b29ce4296e9",
   "metadata": {},
   "outputs": [],
   "source": [
    "videos = setup_video_path(\"./my_vids\")"
   ]
  },
  {
   "cell_type": "code",
   "execution_count": null,
   "id": "8c8497e6-64c6-4fd7-97a5-df7241e92af7",
   "metadata": {},
   "outputs": [],
   "source": [
    "videos"
   ]
  },
  {
   "cell_type": "code",
   "execution_count": null,
   "id": "b6c94480-d9e4-463f-a04a-88b99412e792",
   "metadata": {},
   "outputs": [],
   "source": [
    "prediction_scenes = model.run_model(video_path_dict=videos)"
   ]
  },
  {
   "cell_type": "code",
   "execution_count": null,
   "id": "b1413e88-d571-4f7c-ade5-5d57dc479da0",
   "metadata": {},
   "outputs": [],
   "source": [
    "prediction_scenes"
   ]
  },
  {
   "cell_type": "code",
   "execution_count": null,
   "id": "2ba0e397-58c1-4f72-8ee5-33b339c92297",
   "metadata": {},
   "outputs": [],
   "source": [
    "len(prediction_scenes[\"cvpr08demo\"])"
   ]
  },
  {
   "cell_type": "code",
   "execution_count": null,
   "id": "081ecd75-de06-4ad2-9809-ddd3f4964250",
   "metadata": {},
   "outputs": [],
   "source": [
    "import os\n",
    "import ffmpeg\n",
    "def cut_video(video_path, frame_ranges):\n",
    "    base_name = os.path.splitext(os.path.basename(video_path))[0]\n",
    "    output_dir = os.path.join(os.path.dirname(video_path), base_name + \"Autoshot\")\n",
    "    os.makedirs(output_dir, exist_ok=True)\n",
    "    probe = ffmpeg.probe(video_path)\n",
    "    video_streams = [stream for stream in probe['streams'] if stream['codec_type'] == 'video']\n",
    "    frame_rate = eval(video_streams[0]['r_frame_rate'])\n",
    "    \n",
    "    for i, (start_frame, end_frame) in enumerate(frame_ranges):\n",
    "        start_time = start_frame / frame_rate\n",
    "        end_time = (end_frame + 1) / frame_rate\n",
    "        output_file = os.path.join(output_dir, f\"{base_name}_part_{i+1}.mp4\")\n",
    "        \n",
    "        ffmpeg.input(video_path, ss=start_time, to=end_time).output(output_file).run()\n",
    "\n",
    "    print(f\"All video parts have been saved in the folder: {output_dir}\")"
   ]
  },
  {
   "cell_type": "code",
   "execution_count": null,
   "id": "e75da5bb-0d67-4508-8e89-4aaad113550a",
   "metadata": {},
   "outputs": [],
   "source": [
    "cut_video(\"./my_vids/cvpr08demo.mp4\",prediction_scenes[\"cvpr08demo\"].tolist())"
   ]
  },
  {
   "cell_type": "code",
   "execution_count": null,
   "id": "fe7c737e-dcd1-48d3-9d99-49f66945f532",
   "metadata": {},
   "outputs": [],
   "source": []
  },
  {
   "cell_type": "code",
   "execution_count": null,
   "id": "4b064539-a50b-4e83-a98b-1b435e50a864",
   "metadata": {},
   "outputs": [],
   "source": []
  },
  {
   "cell_type": "code",
   "execution_count": null,
   "id": "98149637-17b2-4f97-b0ed-0f2d952a13f0",
   "metadata": {},
   "outputs": [],
   "source": []
  },
  {
   "cell_type": "code",
   "execution_count": null,
   "id": "cdcb0720-afa7-4130-99c3-d22d03f84eeb",
   "metadata": {},
   "outputs": [],
   "source": []
  }
 ],
 "metadata": {
  "kernelspec": {
   "display_name": "Python 3 (ipykernel)",
   "language": "python",
   "name": "python3"
  },
  "language_info": {
   "codemirror_mode": {
    "name": "ipython",
    "version": 3
   },
   "file_extension": ".py",
   "mimetype": "text/x-python",
   "name": "python",
   "nbconvert_exporter": "python",
   "pygments_lexer": "ipython3",
   "version": "3.11.10"
  }
 },
 "nbformat": 4,
 "nbformat_minor": 5
}
