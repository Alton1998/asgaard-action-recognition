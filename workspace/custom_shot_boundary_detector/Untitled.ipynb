{
 "cells": [
  {
   "cell_type": "code",
   "execution_count": 1,
   "id": "b89d1e6c-1aaa-4d4f-a7e1-361aa0c61cb0",
   "metadata": {},
   "outputs": [],
   "source": [
    "import pandas as pd"
   ]
  },
  {
   "cell_type": "code",
   "execution_count": 2,
   "id": "edc94e03-15b3-48f6-994e-60275c245a1b",
   "metadata": {},
   "outputs": [],
   "source": [
    "df = pd.read_csv(\"The Wild Bunch (1969).csv\")"
   ]
  },
  {
   "cell_type": "code",
   "execution_count": 3,
   "id": "41d113c6-31d2-4453-8989-686dd95c4a5d",
   "metadata": {},
   "outputs": [],
   "source": [
    "def convert_seconds(seconds):\n",
    "    hours = int(seconds // 3600)\n",
    "    minutes = int((seconds % 3600) // 60)\n",
    "    remaining_seconds = int(seconds % 60 ) # Keep decimal precision if needed\n",
    "\n",
    "    return f\"{hours:02}:{minutes:02}:{remaining_seconds:06.3f}\"  \n",
    "\n",
    "frame_rate = 25"
   ]
  },
  {
   "cell_type": "code",
   "execution_count": 4,
   "id": "f6010773-8e56-4643-aded-61b57a2d0fe9",
   "metadata": {},
   "outputs": [],
   "source": [
    "df[\"Start Time\"] = df[\"Start\"].apply(lambda x : x/frame_rate)"
   ]
  },
  {
   "cell_type": "code",
   "execution_count": 7,
   "id": "5f7018e8-28df-43ca-84d1-7d6c91e02480",
   "metadata": {},
   "outputs": [],
   "source": [
    "df[\"Start Time\"] = df[\"Start Time\"].apply(convert_seconds)"
   ]
  },
  {
   "cell_type": "code",
   "execution_count": 8,
   "id": "8851e67c-40db-40a6-bdd7-f729bf48b6ef",
   "metadata": {},
   "outputs": [
    {
     "data": {
      "text/html": [
       "<div>\n",
       "<style scoped>\n",
       "    .dataframe tbody tr th:only-of-type {\n",
       "        vertical-align: middle;\n",
       "    }\n",
       "\n",
       "    .dataframe tbody tr th {\n",
       "        vertical-align: top;\n",
       "    }\n",
       "\n",
       "    .dataframe thead th {\n",
       "        text-align: right;\n",
       "    }\n",
       "</style>\n",
       "<table border=\"1\" class=\"dataframe\">\n",
       "  <thead>\n",
       "    <tr style=\"text-align: right;\">\n",
       "      <th></th>\n",
       "      <th>Start</th>\n",
       "      <th>End</th>\n",
       "      <th>Start Time</th>\n",
       "    </tr>\n",
       "  </thead>\n",
       "  <tbody>\n",
       "    <tr>\n",
       "      <th>0</th>\n",
       "      <td>0</td>\n",
       "      <td>877</td>\n",
       "      <td>00:00:00.000</td>\n",
       "    </tr>\n",
       "    <tr>\n",
       "      <th>1</th>\n",
       "      <td>878</td>\n",
       "      <td>1597</td>\n",
       "      <td>00:00:35.000</td>\n",
       "    </tr>\n",
       "    <tr>\n",
       "      <th>2</th>\n",
       "      <td>1598</td>\n",
       "      <td>2152</td>\n",
       "      <td>00:01:03.000</td>\n",
       "    </tr>\n",
       "    <tr>\n",
       "      <th>3</th>\n",
       "      <td>2153</td>\n",
       "      <td>2396</td>\n",
       "      <td>00:01:26.000</td>\n",
       "    </tr>\n",
       "    <tr>\n",
       "      <th>4</th>\n",
       "      <td>2397</td>\n",
       "      <td>2524</td>\n",
       "      <td>00:01:35.000</td>\n",
       "    </tr>\n",
       "    <tr>\n",
       "      <th>...</th>\n",
       "      <td>...</td>\n",
       "      <td>...</td>\n",
       "      <td>...</td>\n",
       "    </tr>\n",
       "    <tr>\n",
       "      <th>1818</th>\n",
       "      <td>510255</td>\n",
       "      <td>510566</td>\n",
       "      <td>05:40:10.000</td>\n",
       "    </tr>\n",
       "    <tr>\n",
       "      <th>1819</th>\n",
       "      <td>510567</td>\n",
       "      <td>510934</td>\n",
       "      <td>05:40:22.000</td>\n",
       "    </tr>\n",
       "    <tr>\n",
       "      <th>1820</th>\n",
       "      <td>510935</td>\n",
       "      <td>512354</td>\n",
       "      <td>05:40:37.000</td>\n",
       "    </tr>\n",
       "    <tr>\n",
       "      <th>1821</th>\n",
       "      <td>512355</td>\n",
       "      <td>512451</td>\n",
       "      <td>05:41:34.000</td>\n",
       "    </tr>\n",
       "    <tr>\n",
       "      <th>1822</th>\n",
       "      <td>512452</td>\n",
       "      <td>512606</td>\n",
       "      <td>05:41:38.000</td>\n",
       "    </tr>\n",
       "  </tbody>\n",
       "</table>\n",
       "<p>1823 rows × 3 columns</p>\n",
       "</div>"
      ],
      "text/plain": [
       "       Start     End    Start Time\n",
       "0          0     877  00:00:00.000\n",
       "1        878    1597  00:00:35.000\n",
       "2       1598    2152  00:01:03.000\n",
       "3       2153    2396  00:01:26.000\n",
       "4       2397    2524  00:01:35.000\n",
       "...      ...     ...           ...\n",
       "1818  510255  510566  05:40:10.000\n",
       "1819  510567  510934  05:40:22.000\n",
       "1820  510935  512354  05:40:37.000\n",
       "1821  512355  512451  05:41:34.000\n",
       "1822  512452  512606  05:41:38.000\n",
       "\n",
       "[1823 rows x 3 columns]"
      ]
     },
     "execution_count": 8,
     "metadata": {},
     "output_type": "execute_result"
    }
   ],
   "source": [
    "df"
   ]
  },
  {
   "cell_type": "code",
   "execution_count": null,
   "id": "6db8b05e-7f13-452d-88bd-4524014f9bee",
   "metadata": {},
   "outputs": [],
   "source": []
  },
  {
   "cell_type": "code",
   "execution_count": null,
   "id": "ce64a3ba-8209-4b81-ad98-65584656dab1",
   "metadata": {},
   "outputs": [],
   "source": []
  },
  {
   "cell_type": "code",
   "execution_count": null,
   "id": "710bdf9d-0817-444c-8113-01ed24a2498c",
   "metadata": {},
   "outputs": [],
   "source": []
  }
 ],
 "metadata": {
  "kernelspec": {
   "display_name": "Python 3 (ipykernel)",
   "language": "python",
   "name": "python3"
  },
  "language_info": {
   "codemirror_mode": {
    "name": "ipython",
    "version": 3
   },
   "file_extension": ".py",
   "mimetype": "text/x-python",
   "name": "python",
   "nbconvert_exporter": "python",
   "pygments_lexer": "ipython3",
   "version": "3.11.10"
  }
 },
 "nbformat": 4,
 "nbformat_minor": 5
}
