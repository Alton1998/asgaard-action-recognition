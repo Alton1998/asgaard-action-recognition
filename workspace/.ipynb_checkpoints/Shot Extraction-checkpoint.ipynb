{
 "cells": [
  {
   "cell_type": "markdown",
   "id": "b9acde4c-d79d-45d5-8ded-bdea599fbf63",
   "metadata": {},
   "source": [
    "# Shot Extraction"
   ]
  },
  {
   "cell_type": "markdown",
   "id": "e7191010-c668-405a-9ceb-33b84245700e",
   "metadata": {},
   "source": [
    "## Installing Pre-requisites"
   ]
  },
  {
   "cell_type": "code",
   "execution_count": 1,
   "id": "90d02061-36b4-4715-9ceb-c3dd877af891",
   "metadata": {},
   "outputs": [
    {
     "name": "stdout",
     "output_type": "stream",
     "text": [
      "Requirement already satisfied: opencv-python in /opt/conda/lib/python3.11/site-packages (4.11.0.86)\n",
      "Requirement already satisfied: numpy>=1.21.2 in /opt/conda/lib/python3.11/site-packages (from opencv-python) (2.1.2)\n",
      "\u001b[33mWARNING: Running pip as the 'root' user can result in broken permissions and conflicting behaviour with the system package manager, possibly rendering your system unusable.It is recommended to use a virtual environment instead: https://pip.pypa.io/warnings/venv. Use the --root-user-action option if you know what you are doing and want to suppress this warning.\u001b[0m\u001b[33m\n",
      "Get:1 https://developer.download.nvidia.com/compute/cuda/repos/ubuntu2204/x86_64  InRelease [1581 B]\n",
      "Hit:2 http://archive.ubuntu.com/ubuntu jammy InRelease                         \n",
      "Get:3 http://security.ubuntu.com/ubuntu jammy-security InRelease [129 kB]\n",
      "Get:4 https://developer.download.nvidia.com/compute/cuda/repos/ubuntu2204/x86_64  Packages [1283 kB]\n",
      "Get:5 http://archive.ubuntu.com/ubuntu jammy-updates InRelease [128 kB]        \n",
      "Get:6 http://archive.ubuntu.com/ubuntu jammy-backports InRelease [127 kB]      \n",
      "Get:7 http://archive.ubuntu.com/ubuntu jammy-updates/main amd64 Packages [2861 kB]\n",
      "Get:8 http://archive.ubuntu.com/ubuntu jammy-updates/universe amd64 Packages [1520 kB]\n",
      "Fetched 6050 kB in 3s (2323 kB/s)                         \n",
      "Reading package lists... Done\n",
      "Reading package lists... Done\n",
      "Building dependency tree... Done\n",
      "Reading state information... Done\n",
      "libgl1-mesa-glx is already the newest version (23.0.4-0ubuntu1~22.04.1).\n",
      "0 upgraded, 0 newly installed, 0 to remove and 32 not upgraded.\n",
      "Reading package lists... Done\n",
      "Building dependency tree... Done\n",
      "Reading state information... Done\n",
      "libglib2.0-0 is already the newest version (2.72.4-0ubuntu2.4).\n",
      "0 upgraded, 0 newly installed, 0 to remove and 32 not upgraded.\n",
      "Reading package lists... Done\n",
      "Building dependency tree... Done\n",
      "Reading state information... Done\n",
      "ffmpeg is already the newest version (7:4.4.2-0ubuntu0.22.04.1).\n",
      "0 upgraded, 0 newly installed, 0 to remove and 32 not upgraded.\n",
      "Requirement already satisfied: scenedetect[opencv] in /opt/conda/lib/python3.11/site-packages (0.6.5.2)\n",
      "Requirement already satisfied: Click in /opt/conda/lib/python3.11/site-packages (from scenedetect[opencv]) (8.1.7)\n",
      "Requirement already satisfied: numpy in /opt/conda/lib/python3.11/site-packages (from scenedetect[opencv]) (2.1.2)\n",
      "Requirement already satisfied: platformdirs in /opt/conda/lib/python3.11/site-packages (from scenedetect[opencv]) (4.3.6)\n",
      "Requirement already satisfied: tqdm in /opt/conda/lib/python3.11/site-packages (from scenedetect[opencv]) (4.66.5)\n",
      "Requirement already satisfied: opencv-python in /opt/conda/lib/python3.11/site-packages (from scenedetect[opencv]) (4.11.0.86)\n",
      "\u001b[33mWARNING: Running pip as the 'root' user can result in broken permissions and conflicting behaviour with the system package manager, possibly rendering your system unusable.It is recommended to use a virtual environment instead: https://pip.pypa.io/warnings/venv. Use the --root-user-action option if you know what you are doing and want to suppress this warning.\u001b[0m\u001b[33m\n",
      "\u001b[0m"
     ]
    }
   ],
   "source": [
    "!pip install opencv-python\n",
    "!apt-get update\n",
    "!apt-get -y install libgl1-mesa-glx\n",
    "!apt-get -y install libglib2.0-0\n",
    "!apt-get -y install ffmpeg\n",
    "!pip install scenedetect[opencv] --upgrade"
   ]
  },
  {
   "cell_type": "markdown",
   "id": "1b201b6b-6198-475b-b1fb-f1edf435bcc2",
   "metadata": {},
   "source": [
    "## Loading Sample Video File"
   ]
  },
  {
   "cell_type": "code",
   "execution_count": null,
   "id": "e6669d1d-3cf0-4588-841f-ee8b78017cca",
   "metadata": {},
   "outputs": [],
   "source": []
  },
  {
   "cell_type": "markdown",
   "id": "91164490-1e5a-4cdf-9090-1c53186b5c46",
   "metadata": {},
   "source": [
    "## PySceneDetect"
   ]
  },
  {
   "cell_type": "code",
   "execution_count": null,
   "id": "c622af00-b28e-470c-ab3a-6de999cf5162",
   "metadata": {},
   "outputs": [],
   "source": []
  }
 ],
 "metadata": {
  "kernelspec": {
   "display_name": "Python 3 (ipykernel)",
   "language": "python",
   "name": "python3"
  },
  "language_info": {
   "codemirror_mode": {
    "name": "ipython",
    "version": 3
   },
   "file_extension": ".py",
   "mimetype": "text/x-python",
   "name": "python",
   "nbconvert_exporter": "python",
   "pygments_lexer": "ipython3",
   "version": "3.11.10"
  }
 },
 "nbformat": 4,
 "nbformat_minor": 5
}
