{
 "cells": [
  {
   "cell_type": "code",
   "execution_count": 1,
   "metadata": {},
   "outputs": [
    {
     "name": "stdout",
     "output_type": "stream",
     "text": [
      "fatal: destination path 'TransNetV2' already exists and is not an empty directory.\r\n"
     ]
    }
   ],
   "source": [
    "!git clone https://github.com/soCzech/TransNetV2.git"
   ]
  },
  {
   "cell_type": "code",
   "execution_count": 2,
   "metadata": {},
   "outputs": [
    {
     "name": "stdout",
     "output_type": "stream",
     "text": [
      "Requirement already satisfied: pip in /usr/local/lib/python3.6/dist-packages (21.3.1)\n",
      "\u001b[33mWARNING: Running pip as the 'root' user can result in broken permissions and conflicting behaviour with the system package manager. It is recommended to use a virtual environment instead: https://pip.pypa.io/warnings/venv\u001b[0m\n",
      "Hit:1 http://archive.ubuntu.com/ubuntu bionic InRelease\n",
      "Get:2 https://developer.download.nvidia.com/compute/cuda/repos/ubuntu1804/x86_64  InRelease [1581 B]\n",
      "Hit:3 http://security.ubuntu.com/ubuntu bionic-security InRelease              \n",
      "Hit:4 http://archive.ubuntu.com/ubuntu bionic-updates InRelease                \n",
      "Hit:5 http://archive.ubuntu.com/ubuntu bionic-backports InRelease              \n",
      "Hit:6 http://ppa.launchpad.net/jonathonf/ffmpeg-4/ubuntu bionic InRelease      \n",
      "Err:2 https://developer.download.nvidia.com/compute/cuda/repos/ubuntu1804/x86_64  InRelease\n",
      "  The following signatures couldn't be verified because the public key is not available: NO_PUBKEY A4B469963BF863CC\n",
      "Ign:7 https://developer.download.nvidia.com/compute/machine-learning/repos/ubuntu1804/x86_64  InRelease\n",
      "Hit:8 https://developer.download.nvidia.com/compute/machine-learning/repos/ubuntu1804/x86_64  Release\n",
      "Reading package lists... Done\n",
      "W: GPG error: https://developer.download.nvidia.com/compute/cuda/repos/ubuntu1804/x86_64  InRelease: The following signatures couldn't be verified because the public key is not available: NO_PUBKEY A4B469963BF863CC\n",
      "E: The repository 'https://developer.download.nvidia.com/compute/cuda/repos/ubuntu1804/x86_64  InRelease' is no longer signed.\n",
      "N: Updating from such a repository can't be done securely, and is therefore disabled by default.\n",
      "N: See apt-secure(8) manpage for repository creation and user configuration details.\n",
      "Hit:1 http://security.ubuntu.com/ubuntu bionic-security InRelease\n",
      "Hit:2 http://archive.ubuntu.com/ubuntu bionic InRelease             \n",
      "Get:3 https://developer.download.nvidia.com/compute/cuda/repos/ubuntu1804/x86_64  InRelease [1581 B]\n",
      "Hit:4 http://archive.ubuntu.com/ubuntu bionic-updates InRelease                \n",
      "Ign:5 https://developer.download.nvidia.com/compute/machine-learning/repos/ubuntu1804/x86_64  InRelease\n",
      "Hit:6 http://ppa.launchpad.net/jonathonf/ffmpeg-4/ubuntu bionic InRelease      \n",
      "Hit:7 http://archive.ubuntu.com/ubuntu bionic-backports InRelease              \n",
      "Hit:8 https://developer.download.nvidia.com/compute/machine-learning/repos/ubuntu1804/x86_64  Release\n",
      "Err:3 https://developer.download.nvidia.com/compute/cuda/repos/ubuntu1804/x86_64  InRelease\n",
      "  The following signatures couldn't be verified because the public key is not available: NO_PUBKEY A4B469963BF863CC\n",
      "Reading package lists... Done\n",
      "W: GPG error: https://developer.download.nvidia.com/compute/cuda/repos/ubuntu1804/x86_64  InRelease: The following signatures couldn't be verified because the public key is not available: NO_PUBKEY A4B469963BF863CC\n",
      "E: The repository 'https://developer.download.nvidia.com/compute/cuda/repos/ubuntu1804/x86_64  InRelease' is no longer signed.\n",
      "N: Updating from such a repository can't be done securely, and is therefore disabled by default.\n",
      "N: See apt-secure(8) manpage for repository creation and user configuration details.\n",
      "Reading package lists... Done\n",
      "Building dependency tree       \n",
      "Reading state information... Done\n",
      "ffmpeg is already the newest version (7:4.3.2-0york0~18.04).\n",
      "0 upgraded, 0 newly installed, 0 to remove and 142 not upgraded.\n",
      "Reading package lists... Done\n",
      "Building dependency tree       \n",
      "Reading state information... Done\n",
      "libavcodec-extra is already the newest version (7:4.3.2-0york0~18.04).\n",
      "0 upgraded, 0 newly installed, 0 to remove and 142 not upgraded.\n"
     ]
    }
   ],
   "source": [
    "!python3 -m pip install --upgrade pip\n",
    "!add-apt-repository ppa:jonathonf/ffmpeg-4 -y\n",
    "!apt-get update\n",
    "!apt-get install -y ffmpeg\n",
    "!apt-get install -y libavcodec-extra\n"
   ]
  },
  {
   "cell_type": "code",
   "execution_count": 3,
   "metadata": {},
   "outputs": [
    {
     "name": "stdout",
     "output_type": "stream",
     "text": [
      "Requirement already satisfied: ffmpeg-python in /usr/local/lib/python3.6/dist-packages (0.2.0)\n",
      "Requirement already satisfied: pillow in /usr/local/lib/python3.6/dist-packages (8.4.0)\n",
      "Requirement already satisfied: future in /usr/local/lib/python3.6/dist-packages (from ffmpeg-python) (1.0.0)\n",
      "\u001b[33mWARNING: Running pip as the 'root' user can result in broken permissions and conflicting behaviour with the system package manager. It is recommended to use a virtual environment instead: https://pip.pypa.io/warnings/venv\u001b[0m\n"
     ]
    }
   ],
   "source": [
    "!pip install ffmpeg-python pillow"
   ]
  },
  {
   "cell_type": "code",
   "execution_count": 4,
   "metadata": {},
   "outputs": [
    {
     "name": "stdout",
     "output_type": "stream",
     "text": [
      "running install\n",
      "running bdist_egg\n",
      "running egg_info\n",
      "writing transnetv2.egg-info/PKG-INFO\n",
      "writing dependency_links to transnetv2.egg-info/dependency_links.txt\n",
      "writing entry points to transnetv2.egg-info/entry_points.txt\n",
      "writing top-level names to transnetv2.egg-info/top_level.txt\n",
      "reading manifest file 'transnetv2.egg-info/SOURCES.txt'\n",
      "writing manifest file 'transnetv2.egg-info/SOURCES.txt'\n",
      "installing library code to build/bdist.linux-x86_64/egg\n",
      "running install_lib\n",
      "running build_py\n",
      "creating build/bdist.linux-x86_64/egg\n",
      "creating build/bdist.linux-x86_64/egg/transnetv2\n",
      "creating build/bdist.linux-x86_64/egg/transnetv2/transnetv2-weights\n",
      "copying build/lib/transnetv2/transnetv2-weights/saved_model.pb -> build/bdist.linux-x86_64/egg/transnetv2/transnetv2-weights\n",
      "creating build/bdist.linux-x86_64/egg/transnetv2/transnetv2-weights/variables\n",
      "copying build/lib/transnetv2/transnetv2-weights/variables/variables.data-00000-of-00001 -> build/bdist.linux-x86_64/egg/transnetv2/transnetv2-weights/variables\n",
      "copying build/lib/transnetv2/transnetv2-weights/variables/variables.index -> build/bdist.linux-x86_64/egg/transnetv2/transnetv2-weights/variables\n",
      "copying build/lib/transnetv2/transnetv2.py -> build/bdist.linux-x86_64/egg/transnetv2\n",
      "copying build/lib/transnetv2/__init__.py -> build/bdist.linux-x86_64/egg/transnetv2\n",
      "byte-compiling build/bdist.linux-x86_64/egg/transnetv2/transnetv2.py to transnetv2.cpython-36.pyc\n",
      "byte-compiling build/bdist.linux-x86_64/egg/transnetv2/__init__.py to __init__.cpython-36.pyc\n",
      "creating build/bdist.linux-x86_64/egg/EGG-INFO\n",
      "copying transnetv2.egg-info/PKG-INFO -> build/bdist.linux-x86_64/egg/EGG-INFO\n",
      "copying transnetv2.egg-info/SOURCES.txt -> build/bdist.linux-x86_64/egg/EGG-INFO\n",
      "copying transnetv2.egg-info/dependency_links.txt -> build/bdist.linux-x86_64/egg/EGG-INFO\n",
      "copying transnetv2.egg-info/entry_points.txt -> build/bdist.linux-x86_64/egg/EGG-INFO\n",
      "copying transnetv2.egg-info/not-zip-safe -> build/bdist.linux-x86_64/egg/EGG-INFO\n",
      "copying transnetv2.egg-info/top_level.txt -> build/bdist.linux-x86_64/egg/EGG-INFO\n",
      "creating 'dist/transnetv2-1.0.0-py3.6.egg' and adding 'build/bdist.linux-x86_64/egg' to it\n",
      "removing 'build/bdist.linux-x86_64/egg' (and everything under it)\n",
      "Processing transnetv2-1.0.0-py3.6.egg\n",
      "removing '/usr/local/lib/python3.6/dist-packages/transnetv2-1.0.0-py3.6.egg' (and everything under it)\n",
      "creating /usr/local/lib/python3.6/dist-packages/transnetv2-1.0.0-py3.6.egg\n",
      "Extracting transnetv2-1.0.0-py3.6.egg to /usr/local/lib/python3.6/dist-packages\n",
      "transnetv2 1.0.0 is already the active version in easy-install.pth\n",
      "Installing transnetv2_predict script to /usr/local/bin\n",
      "\n",
      "Installed /usr/local/lib/python3.6/dist-packages/transnetv2-1.0.0-py3.6.egg\n",
      "Processing dependencies for transnetv2==1.0.0\n",
      "Finished processing dependencies for transnetv2==1.0.0\n"
     ]
    }
   ],
   "source": [
    "! cd TransNetV2 && python3 setup.py install"
   ]
  },
  {
   "cell_type": "code",
   "execution_count": 5,
   "metadata": {},
   "outputs": [
    {
     "name": "stdout",
     "output_type": "stream",
     "text": [
      "Requirement already satisfied: tensorflow[and-cuda]==2.1.1 in /usr/local/lib/python3.6/dist-packages (2.1.1)\n",
      "\u001b[33mWARNING: tensorflow 2.1.1 does not provide the extra 'and-cuda'\u001b[0m\n",
      "Requirement already satisfied: protobuf>=3.8.0 in /usr/local/lib/python3.6/dist-packages (from tensorflow[and-cuda]==2.1.1) (3.12.0)\n",
      "Requirement already satisfied: opt-einsum>=2.3.2 in /usr/local/lib/python3.6/dist-packages (from tensorflow[and-cuda]==2.1.1) (3.2.1)\n",
      "Requirement already satisfied: gast==0.2.2 in /usr/local/lib/python3.6/dist-packages (from tensorflow[and-cuda]==2.1.1) (0.2.2)\n",
      "Requirement already satisfied: google-pasta>=0.1.6 in /usr/local/lib/python3.6/dist-packages (from tensorflow[and-cuda]==2.1.1) (0.2.0)\n",
      "Requirement already satisfied: keras-preprocessing==1.1.0 in /usr/local/lib/python3.6/dist-packages (from tensorflow[and-cuda]==2.1.1) (1.1.0)\n",
      "Requirement already satisfied: termcolor>=1.1.0 in /usr/local/lib/python3.6/dist-packages (from tensorflow[and-cuda]==2.1.1) (1.1.0)\n",
      "Requirement already satisfied: six>=1.12.0 in /usr/local/lib/python3.6/dist-packages (from tensorflow[and-cuda]==2.1.1) (1.14.0)\n",
      "Requirement already satisfied: wheel>=0.26 in /usr/lib/python3/dist-packages (from tensorflow[and-cuda]==2.1.1) (0.30.0)\n",
      "Requirement already satisfied: astor>=0.6.0 in /usr/local/lib/python3.6/dist-packages (from tensorflow[and-cuda]==2.1.1) (0.8.1)\n",
      "Requirement already satisfied: numpy<2.0,>=1.16.0 in /usr/local/lib/python3.6/dist-packages (from tensorflow[and-cuda]==2.1.1) (1.18.4)\n",
      "Requirement already satisfied: wrapt>=1.11.1 in /usr/local/lib/python3.6/dist-packages (from tensorflow[and-cuda]==2.1.1) (1.12.1)\n",
      "Requirement already satisfied: keras-applications>=1.0.8 in /usr/local/lib/python3.6/dist-packages (from tensorflow[and-cuda]==2.1.1) (1.0.8)\n",
      "Requirement already satisfied: scipy==1.4.1 in /usr/local/lib/python3.6/dist-packages (from tensorflow[and-cuda]==2.1.1) (1.4.1)\n",
      "Requirement already satisfied: tensorboard<2.2.0,>=2.1.0 in /usr/local/lib/python3.6/dist-packages (from tensorflow[and-cuda]==2.1.1) (2.1.1)\n",
      "Requirement already satisfied: absl-py>=0.7.0 in /usr/local/lib/python3.6/dist-packages (from tensorflow[and-cuda]==2.1.1) (0.9.0)\n",
      "Requirement already satisfied: tensorflow-estimator<2.2.0,>=2.1.0rc0 in /usr/local/lib/python3.6/dist-packages (from tensorflow[and-cuda]==2.1.1) (2.1.0)\n",
      "Requirement already satisfied: grpcio>=1.8.6 in /usr/local/lib/python3.6/dist-packages (from tensorflow[and-cuda]==2.1.1) (1.29.0)\n",
      "Requirement already satisfied: h5py in /usr/local/lib/python3.6/dist-packages (from keras-applications>=1.0.8->tensorflow[and-cuda]==2.1.1) (2.10.0)\n",
      "Requirement already satisfied: setuptools in /usr/local/lib/python3.6/dist-packages (from protobuf>=3.8.0->tensorflow[and-cuda]==2.1.1) (46.4.0)\n",
      "Requirement already satisfied: werkzeug>=0.11.15 in /usr/local/lib/python3.6/dist-packages (from tensorboard<2.2.0,>=2.1.0->tensorflow[and-cuda]==2.1.1) (1.0.1)\n",
      "Requirement already satisfied: google-auth-oauthlib<0.5,>=0.4.1 in /usr/local/lib/python3.6/dist-packages (from tensorboard<2.2.0,>=2.1.0->tensorflow[and-cuda]==2.1.1) (0.4.1)\n",
      "Requirement already satisfied: google-auth<2,>=1.6.3 in /usr/local/lib/python3.6/dist-packages (from tensorboard<2.2.0,>=2.1.0->tensorflow[and-cuda]==2.1.1) (1.15.0)\n",
      "Requirement already satisfied: markdown>=2.6.8 in /usr/local/lib/python3.6/dist-packages (from tensorboard<2.2.0,>=2.1.0->tensorflow[and-cuda]==2.1.1) (3.2.2)\n",
      "Requirement already satisfied: requests<3,>=2.21.0 in /usr/local/lib/python3.6/dist-packages (from tensorboard<2.2.0,>=2.1.0->tensorflow[and-cuda]==2.1.1) (2.23.0)\n",
      "Requirement already satisfied: cachetools<5.0,>=2.0.0 in /usr/local/lib/python3.6/dist-packages (from google-auth<2,>=1.6.3->tensorboard<2.2.0,>=2.1.0->tensorflow[and-cuda]==2.1.1) (4.1.0)\n",
      "Requirement already satisfied: rsa<4.1,>=3.1.4 in /usr/local/lib/python3.6/dist-packages (from google-auth<2,>=1.6.3->tensorboard<2.2.0,>=2.1.0->tensorflow[and-cuda]==2.1.1) (4.0)\n",
      "Requirement already satisfied: pyasn1-modules>=0.2.1 in /usr/local/lib/python3.6/dist-packages (from google-auth<2,>=1.6.3->tensorboard<2.2.0,>=2.1.0->tensorflow[and-cuda]==2.1.1) (0.2.8)\n",
      "Requirement already satisfied: requests-oauthlib>=0.7.0 in /usr/local/lib/python3.6/dist-packages (from google-auth-oauthlib<0.5,>=0.4.1->tensorboard<2.2.0,>=2.1.0->tensorflow[and-cuda]==2.1.1) (1.3.0)\n",
      "Requirement already satisfied: importlib-metadata in /usr/local/lib/python3.6/dist-packages (from markdown>=2.6.8->tensorboard<2.2.0,>=2.1.0->tensorflow[and-cuda]==2.1.1) (1.6.0)\n",
      "Requirement already satisfied: certifi>=2017.4.17 in /usr/local/lib/python3.6/dist-packages (from requests<3,>=2.21.0->tensorboard<2.2.0,>=2.1.0->tensorflow[and-cuda]==2.1.1) (2020.4.5.1)\n",
      "Requirement already satisfied: idna<3,>=2.5 in /usr/lib/python3/dist-packages (from requests<3,>=2.21.0->tensorboard<2.2.0,>=2.1.0->tensorflow[and-cuda]==2.1.1) (2.6)\n",
      "Requirement already satisfied: chardet<4,>=3.0.2 in /usr/local/lib/python3.6/dist-packages (from requests<3,>=2.21.0->tensorboard<2.2.0,>=2.1.0->tensorflow[and-cuda]==2.1.1) (3.0.4)\n",
      "Requirement already satisfied: urllib3!=1.25.0,!=1.25.1,<1.26,>=1.21.1 in /usr/local/lib/python3.6/dist-packages (from requests<3,>=2.21.0->tensorboard<2.2.0,>=2.1.0->tensorflow[and-cuda]==2.1.1) (1.25.9)\n",
      "Requirement already satisfied: pyasn1<0.5.0,>=0.4.6 in /usr/local/lib/python3.6/dist-packages (from pyasn1-modules>=0.2.1->google-auth<2,>=1.6.3->tensorboard<2.2.0,>=2.1.0->tensorflow[and-cuda]==2.1.1) (0.4.8)\n",
      "Requirement already satisfied: oauthlib>=3.0.0 in /usr/local/lib/python3.6/dist-packages (from requests-oauthlib>=0.7.0->google-auth-oauthlib<0.5,>=0.4.1->tensorboard<2.2.0,>=2.1.0->tensorflow[and-cuda]==2.1.1) (3.1.0)\n",
      "Requirement already satisfied: zipp>=0.5 in /usr/local/lib/python3.6/dist-packages (from importlib-metadata->markdown>=2.6.8->tensorboard<2.2.0,>=2.1.0->tensorflow[and-cuda]==2.1.1) (3.1.0)\n",
      "\u001b[33mWARNING: Running pip as the 'root' user can result in broken permissions and conflicting behaviour with the system package manager. It is recommended to use a virtual environment instead: https://pip.pypa.io/warnings/venv\u001b[0m\n"
     ]
    }
   ],
   "source": [
    "\n",
    "!pip install tensorflow[and-cuda]==2.1.1"
   ]
  },
  {
   "cell_type": "code",
   "execution_count": 6,
   "metadata": {},
   "outputs": [],
   "source": [
    "from transnetv2 import TransNetV2"
   ]
  },
  {
   "cell_type": "code",
   "execution_count": 7,
   "metadata": {},
   "outputs": [
    {
     "name": "stdout",
     "output_type": "stream",
     "text": [
      "[TransNetV2] Using weights from /usr/local/lib/python3.6/dist-packages/transnetv2-1.0.0-py3.6.egg/transnetv2/transnetv2-weights/.\n"
     ]
    }
   ],
   "source": [
    "model = TransNetV2()"
   ]
  },
  {
   "cell_type": "code",
   "execution_count": 8,
   "metadata": {},
   "outputs": [],
   "source": [
    "video = \"cvpr08demo.mpg\""
   ]
  },
  {
   "cell_type": "code",
   "execution_count": 9,
   "metadata": {},
   "outputs": [
    {
     "name": "stdout",
     "output_type": "stream",
     "text": [
      "[TransNetV2] Extracting frames from cvpr08demo.mpg\n",
      "[TransNetV2] Processing video frames 3103/3103\n"
     ]
    }
   ],
   "source": [
    "video_frames, single_frame_predictions, all_frame_predictions = model.predict_video(video)"
   ]
  },
  {
   "cell_type": "code",
   "execution_count": 10,
   "metadata": {},
   "outputs": [
    {
     "data": {
      "text/plain": [
       "(3103, 27, 48, 3)"
      ]
     },
     "execution_count": 10,
     "metadata": {},
     "output_type": "execute_result"
    }
   ],
   "source": [
    "video_frames.shape"
   ]
  },
  {
   "cell_type": "code",
   "execution_count": 11,
   "metadata": {},
   "outputs": [
    {
     "data": {
      "text/plain": [
       "(3103,)"
      ]
     },
     "execution_count": 11,
     "metadata": {},
     "output_type": "execute_result"
    }
   ],
   "source": [
    "single_frame_predictions.shape"
   ]
  },
  {
   "cell_type": "code",
   "execution_count": 12,
   "metadata": {},
   "outputs": [
    {
     "data": {
      "text/plain": [
       "(3103,)"
      ]
     },
     "execution_count": 12,
     "metadata": {},
     "output_type": "execute_result"
    }
   ],
   "source": [
    "all_frame_predictions.shape"
   ]
  },
  {
   "cell_type": "code",
   "execution_count": 13,
   "metadata": {},
   "outputs": [
    {
     "data": {
      "text/plain": [
       "array([3.9849427e-04, 4.8510102e-04, 4.5428865e-04, ..., 9.4565642e-01,\n",
       "       8.2267410e-01, 3.5310686e-01], dtype=float32)"
      ]
     },
     "execution_count": 13,
     "metadata": {},
     "output_type": "execute_result"
    }
   ],
   "source": [
    "all_frame_predictions"
   ]
  },
  {
   "cell_type": "code",
   "execution_count": 14,
   "metadata": {},
   "outputs": [],
   "source": [
    "scenes = model.predictions_to_scenes(single_frame_predictions)"
   ]
  },
  {
   "cell_type": "code",
   "execution_count": 15,
   "metadata": {},
   "outputs": [
    {
     "data": {
      "text/plain": [
       "[[0, 156],\n",
       " [158, 511],\n",
       " [512, 528],\n",
       " [529, 558],\n",
       " [559, 737],\n",
       " [738, 1389],\n",
       " [1390, 1804],\n",
       " [1805, 1827],\n",
       " [1828, 1897],\n",
       " [1898, 2369],\n",
       " [2370, 2579],\n",
       " [2580, 2824],\n",
       " [2825, 2981],\n",
       " [2982, 3034],\n",
       " [3035, 3094],\n",
       " [3095, 3102]]"
      ]
     },
     "execution_count": 15,
     "metadata": {},
     "output_type": "execute_result"
    }
   ],
   "source": [
    "scenes.tolist()"
   ]
  },
  {
   "cell_type": "code",
   "execution_count": 18,
   "metadata": {},
   "outputs": [],
   "source": [
    "import os\n",
    "import ffmpeg\n",
    "def cut_video(video_path, frame_ranges):\n",
    "    base_name = os.path.splitext(os.path.basename(video_path))[0]\n",
    "    output_dir = os.path.join(os.path.dirname(video_path), base_name + \"TransnetV2\")\n",
    "    os.makedirs(output_dir, exist_ok=True)\n",
    "    probe = ffmpeg.probe(video_path)\n",
    "    video_streams = [stream for stream in probe['streams'] if stream['codec_type'] == 'video']\n",
    "    frame_rate = eval(video_streams[0]['r_frame_rate'])\n",
    "    \n",
    "    for i, (start_frame, end_frame) in enumerate(frame_ranges):\n",
    "        start_time = start_frame / frame_rate\n",
    "        end_time = (end_frame + 1) / frame_rate\n",
    "        output_file = os.path.join(output_dir, f\"{base_name}_part_{i+1}.mp4\")\n",
    "        \n",
    "        ffmpeg.input(video_path, ss=start_time, to=end_time).output(output_file).run()\n",
    "\n",
    "    print(f\"All video parts have been saved in the folder: {output_dir}\")"
   ]
  },
  {
   "cell_type": "code",
   "execution_count": 19,
   "metadata": {},
   "outputs": [
    {
     "name": "stdout",
     "output_type": "stream",
     "text": [
      "All video parts have been saved in the folder: cvpr08demoTransnetV2\n"
     ]
    }
   ],
   "source": [
    "cut_video(video, scenes)"
   ]
  },
  {
   "cell_type": "code",
   "execution_count": null,
   "metadata": {},
   "outputs": [],
   "source": []
  },
  {
   "cell_type": "code",
   "execution_count": null,
   "metadata": {},
   "outputs": [],
   "source": []
  }
 ],
 "metadata": {
  "kernelspec": {
   "display_name": "Python 3",
   "language": "python",
   "name": "python3"
  },
  "language_info": {
   "codemirror_mode": {
    "name": "ipython",
    "version": 3
   },
   "file_extension": ".py",
   "mimetype": "text/x-python",
   "name": "python",
   "nbconvert_exporter": "python",
   "pygments_lexer": "ipython3",
   "version": "3.6.9"
  }
 },
 "nbformat": 4,
 "nbformat_minor": 5
}
